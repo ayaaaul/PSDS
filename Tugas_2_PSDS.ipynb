{
  "nbformat": 4,
  "nbformat_minor": 0,
  "metadata": {
    "colab": {
      "provenance": []
    },
    "kernelspec": {
      "name": "python3",
      "display_name": "Python 3"
    },
    "language_info": {
      "name": "python"
    }
  },
  "cells": [
    {
      "cell_type": "markdown",
      "source": [
        "## PENGENALAN PYTHON\n",
        "\n"
      ],
      "metadata": {
        "id": "s6Q_FqsE63tY"
      }
    },
    {
      "cell_type": "markdown",
      "source": [
        "Phyton adalah Bahasa pemrograman tingkat tinggi dengan dynamic semantics, bersifat object oriented, dan interpretatif. Bahasa pemrograman ini fokus dikembangkan pada keterbacaan bahasa pemrograman.\n",
        "\n",
        "1. Bahasa Pemrograman Tingkat Tinggi (High Level Programming) Artinya sintaks kode lebih mudah ditafsirkan oleh manusia.\n",
        "\n",
        "2. Interpretatif Ini artinya bahasa ini memerlukan intrepeter atau penerjemah. Ini memungkinkan kita untuk menggunakan Bahasa yang lebih mudah kita pahami.\n",
        "\n",
        "3. Object Oriented Ini berarti bahwa bahasa pemrograman ini berorientasi kepada objek. Hal ini membuat Phyton lebih mudah untuk dikembangkan.\n",
        "\n",
        "4. Dynamic Semantic Phyton secara otomatis akan menyesuaikan tipe dari suatu variable berdasarkan inputnya."
      ],
      "metadata": {
        "id": "WKO4tnES7Fyu"
      }
    },
    {
      "cell_type": "markdown",
      "source": [
        "Mengapa Python?\n",
        "1. Mudah dipahami\n",
        "2. Grafis & Open Source\n",
        "3. Dinamis\n",
        "4. Memiliki Library Terlengkap untuk Data Sains\n",
        "\n"
      ],
      "metadata": {
        "id": "4MEb_Out7TpC"
      }
    },
    {
      "cell_type": "markdown",
      "source": [
        "Struktur Program pada Python\n"
      ],
      "metadata": {
        "id": "ayiPtShG7pa3"
      }
    },
    {
      "cell_type": "markdown",
      "source": [
        "Python pada umumnya terdiri dari :\n",
        "\n",
        "1. Statement"
      ],
      "metadata": {
        "id": "YeoClpyv7yOp"
      }
    },
    {
      "cell_type": "code",
      "execution_count": 1,
      "metadata": {
        "colab": {
          "base_uri": "https://localhost:8080/"
        },
        "id": "tB5CGIg160NH",
        "outputId": "c38bb7c8-8161-4569-c771-b849b79e6e97"
      },
      "outputs": [
        {
          "output_type": "stream",
          "name": "stdout",
          "text": [
            "Belajar Python Menyenangkan\n",
            "Hallo Dunia\n"
          ]
        }
      ],
      "source": [
        "print(\"Belajar Python Menyenangkan\")\n",
        "print(\"Hallo Dunia\")"
      ]
    },
    {
      "cell_type": "markdown",
      "source": [
        "2. Variables"
      ],
      "metadata": {
        "id": "zMgbn_gI77nB"
      }
    },
    {
      "cell_type": "code",
      "source": [
        "bilangan1 = 5\n",
        "bilangan2 = 10\n",
        "kalimat = \"pejuang data 3\""
      ],
      "metadata": {
        "id": "haz2XG3u7_Dt"
      },
      "execution_count": 2,
      "outputs": []
    },
    {
      "cell_type": "markdown",
      "source": [
        "3. Literals : Simbol-simbol yang dapat kita gunakan untuk mengisi suatu variable.\n",
        "\n",
        "4. Operators : Simbol-simbol yang dapat digunakan untuk mengubah nilai dari satu variable\n",
        "\n",
        "dengan melibatkan satu atau lebih variable dan literal"
      ],
      "metadata": {
        "id": "-W9vMAji8Dhd"
      }
    },
    {
      "cell_type": "code",
      "source": [
        "bilangan1 + bilangan2"
      ],
      "metadata": {
        "colab": {
          "base_uri": "https://localhost:8080/"
        },
        "id": "SVyJz8fZ8LbO",
        "outputId": "7c7a04fe-eaab-4ca2-fad9-780b0351bd0b"
      },
      "execution_count": 3,
      "outputs": [
        {
          "output_type": "execute_result",
          "data": {
            "text/plain": [
              "15"
            ]
          },
          "metadata": {},
          "execution_count": 3
        }
      ]
    },
    {
      "cell_type": "markdown",
      "source": [
        "5. Reserved Words : Kumpulan kata-kata yang memiliki makna khusus dalam bahasa\n",
        "pemrograman Phyton. Kata false , return , dan for merupakan contoh dari reserved words.\n",
        "\n",
        "6. Whitespace: Pada bahasa Phyton, spasi dan tab memiliki makna khusus untuk menandai serangkaian blok dalam kode Phyton.\n",
        "\n",
        "7. Comments : Comments merupakan sekumpulan teks yang dituliskan di dalam sebuah program yang tidak akan mempengaruhi hasil dari sebuah pemrograman.\n",
        "\n",
        "Terdapat dua jenis comments di dalam Phyton, yaitu :\n",
        "\n",
        "a. single line comment (comments dalam satu baris) seperti contoh berikut :"
      ],
      "metadata": {
        "id": "QsBcui_I8QHB"
      }
    },
    {
      "cell_type": "code",
      "source": [
        "# Ini adalah Comment\n",
        "print(\"belajar python\")"
      ],
      "metadata": {
        "colab": {
          "base_uri": "https://localhost:8080/"
        },
        "id": "hf7qZFA_8oQ8",
        "outputId": "145d9f97-58e7-41c4-8081-2630b47d388c"
      },
      "execution_count": 4,
      "outputs": [
        {
          "output_type": "stream",
          "name": "stdout",
          "text": [
            "belajar python\n"
          ]
        }
      ]
    },
    {
      "cell_type": "markdown",
      "source": [
        "b. multi line comment (comments dalam beberapa baris) yang dapat dilakukan seperti pada contoh berikut :"
      ],
      "metadata": {
        "id": "qymHhsPI_NlC"
      }
    },
    {
      "cell_type": "code",
      "source": [
        "'''\n",
        "Ini adalah komentar panjang\n",
        "Bisa digunakan untuk memberikan penjelasan\n",
        "panjang pada Sell Kode Phyton,\n",
        "Misal dokumentasi program, spesifikasi\n",
        "input output atau lainnya\n",
        "'''\n",
        "print('Belajar Phyton menyenangkan')\n"
      ],
      "metadata": {
        "colab": {
          "base_uri": "https://localhost:8080/"
        },
        "id": "eM8oSO8U_SOB",
        "outputId": "1958b984-2f75-4858-906d-3ff677888cdf"
      },
      "execution_count": 5,
      "outputs": [
        {
          "output_type": "stream",
          "name": "stdout",
          "text": [
            "Belajar Phyton menyenangkan\n"
          ]
        }
      ]
    }
  ]
}